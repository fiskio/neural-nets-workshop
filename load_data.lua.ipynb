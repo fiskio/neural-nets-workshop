{
 "cells": [
  {
   "cell_type": "markdown",
   "metadata": {},
   "source": [
    "## Generate Training Files"
   ]
  },
  {
   "cell_type": "code",
   "execution_count": null,
   "metadata": {
    "collapsed": true
   },
   "outputs": [],
   "source": []
  },
  {
   "cell_type": "markdown",
   "metadata": {},
   "source": [
    "##Loading Trainig Files"
   ]
  },
  {
   "cell_type": "code",
   "execution_count": 22,
   "metadata": {
    "collapsed": false
   },
   "outputs": [
    {
     "data": {
      "text/plain": [
       "Loaded 7 words\t\n",
       "{\n",
       "  I : 3\n",
       "  person : 7\n",
       "  am : 4\n",
       "  beautiful : 6\n",
       "  a : 5\n",
       "  _OOV_ : 1\n",
       "  <S> : 2\n",
       "}\n",
       "{\n",
       "  1 : _OOV_\n",
       "  2 : <S>\n",
       "  3 : I\n",
       "  4 : am\n",
       "  5 : a\n",
       "  6 : beautiful\n",
       "  7 : person\n",
       "}\n",
       " 2\n",
       " 1\n",
       " 1\n",
       " 1\n",
       " 1\n",
       " 2\n",
       " 3\n",
       " 4\n",
       " 5\n",
       " 6\n",
       " 7\n",
       " 1\n",
       "[torch.IntTensor of dimension 12]\n",
       "\n"
      ]
     },
     "execution_count": 22,
     "metadata": {},
     "output_type": "execute_result"
    }
   ],
   "source": [
    "local fileLoader = function()\n",
    "    local this = {}\n",
    "    -- load vocabulary file\n",
    "    this.loadVocabFile = function(path)\n",
    "        -- add special markers _OOV_ and <S>\n",
    "        this.word2class = {['_OOV_'] = 1, ['<S>'] = 2}\n",
    "        this.class2word = {[1] = '_OOV_', [2] = '<S>'}\n",
    "        for line in io.open(path):lines() do\n",
    "            local tokens = line:split('%s+')\n",
    "            local word = tokens[1]\n",
    "            local count = tokens[2]\n",
    "            table.insert(this.class2word, word)\n",
    "            this.word2class[word] = #this.class2word\n",
    "        end\n",
    "    end\n",
    "    -- load text file\n",
    "    this.loadTextFile = function(path, maxWords)\n",
    "        this.textData = torch.IntTensor(maxWords)\n",
    "        local index = 1\n",
    "        for line in io.open(path):lines() do\n",
    "            local tokens = line:split('%s+')\n",
    "            if maxWords < (index + #tokens - 1) then break end\n",
    "            this.textData[index] = 2 -- <S>\n",
    "            index = index + 1\n",
    "            for _,word in pairs(tokens) do\n",
    "                this.textData[index] = this.word2class[word] or 1\n",
    "                index = index + 1\n",
    "            end\n",
    "        end\n",
    "        this.textData:resize(index-1)\n",
    "    end\n",
    "    return this\n",
    "end\n",
    "\n",
    "-- test\n",
    "loader = fileLoader()\n",
    "-- vocabulary\n",
    "loader.loadVocabFile('dummy.1-gram')\n",
    "print('Loaded '..#loader.class2word..' words')\n",
    "print(loader.word2class)\n",
    "print(loader.class2word)\n",
    "-- text\n",
    "loader.loadTextFile('dummy.txt', 20)\n",
    "print(loader.textData)"
   ]
  }
 ],
 "metadata": {
  "kernelspec": {
   "display_name": "iTorch",
   "language": "lua",
   "name": "itorch"
  },
  "language_info": {
   "name": "lua",
   "version": "20100"
  }
 },
 "nbformat": 4,
 "nbformat_minor": 0
}
