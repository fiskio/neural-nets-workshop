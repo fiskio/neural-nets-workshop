{
 "cells": [
  {
   "cell_type": "markdown",
   "metadata": {},
   "source": [
    "#References\n",
    "\n",
    "## Lua\n",
    "\n",
    "- [Lua in 15 minutes](http://tylerneylon.com/a/learn-lua/) Ah, Lua... 15 minutes to learn, a lifetime to master.\n",
    "\n",
    "\n",
    "- [Lua Missions](https://github.com/kikito/lua_missions) Lua Koans, minus the Zen stuff. Learn Lua by fixing broken tests.\n",
    "\n",
    "\n",
    "- [PenLight](http://www.penlight.luaforge.net/) Lua does not include batteries, this library fixes this.\n",
    "\n",
    "## Torch\n",
    "\n",
    "- [Torch Homepage](www.torch.ch) This is the starting point to access the Torch galaxy.\n",
    "\n",
    "In particular you'll find a lot of very useful information in:\n",
    "   - [Torch Tensor](https://github.com/torch/torch7/blob/master/doc/tensor.md) Everything you wanted to know about tensors, and then some more!\n",
    "   - [Torch Math Functions](https://github.com/torch/torch7/blob/master/doc/maths.md) All the mathematical operation you can do on tensors.\n",
    "   \n",
    "Also, some othe nice Torch resources are:\n",
    "   - [Neural Network Package](https://github.com/torch/nn)  Contains the official Torch neural network modules.\n",
    "\n",
    "\n",
    "- [Cheatsheet](https://github.com/torch/torch7/wiki/Cheatsheet) A lot of Torch related resource, incredibly useful!\n",
    "\n",
    "\n",
    "- [Official Tutorial](http://code.madbits.com/wiki/doku.php) A series of introductory tutorial to Torch.\n",
    "\n",
    "\n",
    "- [DP](https://github.com/nicholas-leonard/dp) A higher-level framework for deep learning using Torch, incredibly nice!\n"
   ]
  }
 ],
 "metadata": {
  "kernelspec": {
   "display_name": "iTorch",
   "language": "lua",
   "name": "itorch"
  },
  "language_info": {
   "name": "lua",
   "version": "20100"
  }
 },
 "nbformat": 4,
 "nbformat_minor": 0
}
